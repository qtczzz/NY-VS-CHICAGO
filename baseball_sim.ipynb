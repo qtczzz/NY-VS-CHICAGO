{
  "nbformat": 4,
  "nbformat_minor": 0,
  "metadata": {
    "colab": {
      "provenance": []
    },
    "kernelspec": {
      "name": "python3",
      "display_name": "Python 3"
    },
    "language_info": {
      "name": "python"
    }
  },
  "cells": [
    {
      "cell_type": "code",
      "source": [
        "import random\n",
        "import matplotlib.pyplot as plt"
      ],
      "metadata": {
        "id": "gHuvARqwIB7c"
      },
      "execution_count": 1,
      "outputs": []
    },
    {
      "cell_type": "code",
      "source": [
        "import requests\n",
        "import pandas as pd"
      ],
      "metadata": {
        "id": "fH1q4goNQ9vg"
      },
      "execution_count": 9,
      "outputs": []
    },
    {
      "cell_type": "markdown",
      "source": [
        "## process raw data\n"
      ],
      "metadata": {
        "id": "GwjFKFZYS2Ok"
      }
    },
    {
      "cell_type": "code",
      "source": [
        "# Function to get hitters' stats for a team\n",
        "def get_team_stats(team_id, season=2024, limit=9):\n",
        "    url = f\"https://statsapi.mlb.com/api/v1/stats\"\n",
        "    params = {\n",
        "        \"stats\": \"season\",\n",
        "        \"group\": \"hitting\",\n",
        "        \"season\": season,\n",
        "        \"playerPool\": \"all\",\n",
        "        \"gameType\": \"R\",\n",
        "        \"limit\": 50,\n",
        "        \"sortStat\": \"plateAppearances\",\n",
        "        \"order\": \"desc\",\n",
        "        \"teamId\": team_id\n",
        "    }\n",
        "    res = requests.get(url, params=params)\n",
        "    data = res.json()\n",
        "\n",
        "    player_stats = []\n",
        "    for player in data['stats'][0]['splits'][:limit]:\n",
        "        s = player['stat']\n",
        "        name = player['player']['fullName']\n",
        "        PA = int(s.get(\"plateAppearances\", 0))\n",
        "        H = int(s.get(\"hits\", 0))\n",
        "        doubles = int(s.get(\"doubles\", 0))\n",
        "        triples = int(s.get(\"triples\", 0))\n",
        "        HR = int(s.get(\"homeRuns\", 0))\n",
        "        BB = int(s.get(\"baseOnBalls\", 0))\n",
        "\n",
        "        singles = H - doubles - triples - HR\n",
        "        P_single = singles / PA if PA else 0\n",
        "        P_double = doubles / PA if PA else 0\n",
        "        P_triple = triples / PA if PA else 0\n",
        "        P_HR = HR / PA if PA else 0\n",
        "        P_BB = BB / PA if PA else 0\n",
        "        P_out = 1 - (P_single + P_double + P_triple + P_HR + P_BB)\n",
        "\n",
        "        player_stats.append({\n",
        "            \"name\": name,\n",
        "            \"probs\": [round(P_single, 4), round(P_double, 4), round(P_triple, 4),\n",
        "                      round(P_HR, 4), round(P_BB, 4), round(P_out, 4)]\n",
        "        })\n",
        "\n",
        "    return pd.DataFrame(player_stats)\n",
        "\n",
        "# Team IDs from MLB API\n",
        "WHITE_SOX_ID = 145\n",
        "YANKEES_ID = 147\n",
        "\n",
        "# Get top 9 batters\n",
        "white_sox_probs = get_team_stats(WHITE_SOX_ID)\n",
        "yankees_probs = get_team_stats(YANKEES_ID)\n",
        "\n",
        "# Display\n",
        "print(\"Chicago White Sox Batting Probabilities:\\n\", white_sox_probs)\n",
        "print(\"\\nNew York Yankees Batting Probabilities:\\n\", yankees_probs)\n"
      ],
      "metadata": {
        "colab": {
          "base_uri": "https://localhost:8080/"
        },
        "id": "S7p7qGzpI_XZ",
        "outputId": "e3d4b39e-174b-495d-f16f-b3efd39c8187"
      },
      "execution_count": 10,
      "outputs": [
        {
          "output_type": "stream",
          "name": "stdout",
          "text": [
            "Chicago White Sox Batting Probabilities:\n",
            "                 name                                             probs\n",
            "0      Andrew Vaughn  [0.1454, 0.0485, 0.0016, 0.0307, 0.0614, 0.7124]\n",
            "1  Andrew Benintendi     [0.1322, 0.0383, 0.0, 0.0383, 0.0785, 0.7126]\n",
            "2       Gavin Sheets     [0.1397, 0.0479, 0.002, 0.02, 0.0858, 0.7046]\n",
            "3        Nicky Lopez   [0.1798, 0.027, 0.0067, 0.0022, 0.0831, 0.7011]\n",
            "4    Luis Robert Jr.     [0.1294, 0.0447, 0.0, 0.0329, 0.0659, 0.7271]\n",
            "5          Korey Lee   [0.132, 0.0355, 0.0025, 0.0305, 0.0431, 0.7563]\n",
            "6         Lenyn Sosa     [0.1843, 0.0352, 0.0, 0.0217, 0.0325, 0.7263]\n",
            "7       Eloy Jiménez     [0.1647, 0.0361, 0.0, 0.0201, 0.0723, 0.7068]\n",
            "8   Dominic Fletcher     [0.1535, 0.0332, 0.0, 0.0041, 0.0456, 0.7635]\n",
            "\n",
            "New York Yankees Batting Probabilities:\n",
            "                 name                                             probs\n",
            "0          Juan Soto  [0.1262, 0.0435, 0.0056, 0.0575, 0.1809, 0.5863]\n",
            "1        Aaron Judge  [0.1207, 0.0511, 0.0014, 0.0824, 0.1889, 0.5554]\n",
            "2      Anthony Volpe   [0.1582, 0.0392, 0.0102, 0.0174, 0.061, 0.7141]\n",
            "3     Gleyber Torres     [0.1654, 0.0391, 0.0, 0.0226, 0.0977, 0.6752]\n",
            "4       Alex Verdugo  [0.1417, 0.0451, 0.0016, 0.0209, 0.0789, 0.7118]\n",
            "5  Giancarlo Stanton     [0.1089, 0.0436, 0.0, 0.0588, 0.0828, 0.7059]\n",
            "6       Austin Wells  [0.1184, 0.0435, 0.0024, 0.0314, 0.1135, 0.6908]\n",
            "7      Anthony Rizzo        [0.152, 0.032, 0.0, 0.0213, 0.072, 0.7227]\n",
            "8    Oswaldo Cabrera     [0.1687, 0.0337, 0.0, 0.0245, 0.0644, 0.7086]\n"
          ]
        }
      ]
    },
    {
      "cell_type": "markdown",
      "source": [
        "## model code\n"
      ],
      "metadata": {
        "id": "W033jJQLKLMo"
      }
    },
    {
      "cell_type": "code",
      "source": [
        "\n",
        "# Define batting outcome names\n",
        "outcomes = [\"single\", \"double\", \"triple\", \"home_run\", \"walk\", \"out\"]\n",
        "\n",
        "# Team A and B batters: 9 batters each with outcome probabilities (sum must be 1)\n",
        "team_A = [list(row['probs']) for _, row in white_sox_probs.iterrows()]\n",
        "team_B = [list(row['probs']) for _, row in yankees_probs.iterrows()]\n",
        "\n",
        "# Advance runners logic\n",
        "def advance_runners(runners, outcome):\n",
        "    runs = 0\n",
        "    if outcome == \"single\":\n",
        "        if runners[2]: runs += 1\n",
        "        runners = [True] + runners[:2]\n",
        "    elif outcome == \"double\":\n",
        "        if runners[2]: runs += 1\n",
        "        if runners[1]: runs += 1\n",
        "        runners = [False, True, runners[0]]\n",
        "    elif outcome == \"triple\":\n",
        "        runs += sum(runners)\n",
        "        runners = [False, False, True]\n",
        "    elif outcome == \"home_run\":\n",
        "        runs += sum(runners) + 1\n",
        "        runners = [False, False, False]\n",
        "    elif outcome == \"walk\":\n",
        "        if all(runners): runs += 1\n",
        "        if runners[1] and runners[2]: runners[2] = True\n",
        "        if runners[0] and runners[1]: runners[1] = True\n",
        "        if runners[0]: runners[0] = True\n",
        "        runners[0] = True\n",
        "    return runners, runs\n",
        "\n",
        "# Simulate a half-inning for a team\n",
        "def simulate_half_inning(team, batter_index):\n",
        "    outs = 0\n",
        "    runs = 0\n",
        "    runners = [False, False, False]\n",
        "    while outs < 3:\n",
        "        batter_probs = team[batter_index % 9]\n",
        "        outcome = random.choices(outcomes, batter_probs)[0]\n",
        "        if outcome == \"out\":\n",
        "            outs += 1\n",
        "        else:\n",
        "            runners, gained = advance_runners(runners, outcome)\n",
        "            runs += gained\n",
        "        batter_index += 1\n",
        "    return runs, batter_index\n",
        "\n",
        "# Simulate one full game\n",
        "def simulate_game():\n",
        "    a_index = b_index = 0\n",
        "    team_A_score = 0\n",
        "    team_B_score = 0\n",
        "\n",
        "    for inning in range(9):\n",
        "        a_run, a_index = simulate_half_inning(team_A, a_index)\n",
        "        b_run, b_index = simulate_half_inning(team_B, b_index)\n",
        "        team_A_score += a_run\n",
        "        team_B_score += b_run\n",
        "\n",
        "    return team_A_score, team_B_score\n",
        "\n",
        "# Run many simulations\n",
        "def run_simulations(n=10000):\n",
        "    results = []\n",
        "    team_A_wins = 0\n",
        "    team_B_wins = 0\n",
        "    ties = 0\n",
        "\n",
        "    for _ in range(n):\n",
        "        a_score, b_score = simulate_game()\n",
        "        results.append((a_score, b_score))\n",
        "        if a_score > b_score:\n",
        "            team_A_wins += 1\n",
        "        elif b_score > a_score:\n",
        "            team_B_wins += 1\n",
        "        else:\n",
        "            ties += 1\n",
        "\n",
        "    return results, team_A_wins, team_B_wins, ties\n",
        "\n",
        "# Run the simulation\n",
        "sim_results, wins_A, wins_B, ties = run_simulations(10000)\n",
        "\n",
        "# Calculate average runs per inning\n",
        "total_A_runs = sum([a for a, b in sim_results])\n",
        "total_B_runs = sum([b for a, b in sim_results])\n",
        "total_innings = len(sim_results) * 9  # 9 innings per game\n",
        "\n",
        "avg_A_per_inning = total_A_runs / total_innings\n",
        "avg_B_per_inning = total_B_runs / total_innings\n",
        "\n"
      ],
      "metadata": {
        "id": "piyIFL9PKNb0"
      },
      "execution_count": 12,
      "outputs": []
    },
    {
      "cell_type": "markdown",
      "source": [
        "## result\n"
      ],
      "metadata": {
        "id": "f9tVJAcFVBVc"
      }
    },
    {
      "cell_type": "code",
      "source": [
        "print(f\"Team A ave runs per inning: {avg_A_per_inning:.3f}\")\n",
        "print(f\"Team B ave runs per inning: {avg_B_per_inning:.3f}\")\n",
        "\n",
        "# Print win stats\n",
        "print(f\"Team A win rate: {wins_A / 10000:.2%}\")\n",
        "print(f\"Team B win rate: {wins_B / 10000:.2%}\")\n",
        "print(f\"Tie rate: {ties / 10000:.2%}\")\n",
        "\n",
        "# Plot score difference histogram\n",
        "score_diffs = [a - b for a, b in sim_results]\n",
        "plt.hist(score_diffs, bins=range(min(score_diffs), max(score_diffs)+1), edgecolor='black', align='left')\n",
        "plt.title(\"Team A - Team B Score Differences\")\n",
        "plt.xlabel(\"Run Differential\")\n",
        "plt.ylabel(\"Game Count\")\n",
        "plt.grid(True)\n",
        "plt.show()"
      ],
      "metadata": {
        "colab": {
          "base_uri": "https://localhost:8080/",
          "height": 559
        },
        "id": "qeATjQkqVBA7",
        "outputId": "e8140117-0c61-4021-c8c9-95f94856ee3d"
      },
      "execution_count": 13,
      "outputs": [
        {
          "output_type": "stream",
          "name": "stdout",
          "text": [
            "Team A ave runs per inning: 0.233\n",
            "Team B ave runs per inning: 0.389\n",
            "Team A win rate: 27.47%\n",
            "Team B win rate: 59.98%\n",
            "Tie rate: 12.55%\n"
          ]
        },
        {
          "output_type": "display_data",
          "data": {
            "text/plain": [
              "<Figure size 640x480 with 1 Axes>"
            ],
            "image/png": "[encoded data removed]"
          },
          "metadata": {}
        }
      ]
    }
  ]
}